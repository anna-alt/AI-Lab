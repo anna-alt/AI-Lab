{
  "nbformat": 4,
  "nbformat_minor": 0,
  "metadata": {
    "colab": {
      "provenance": [],
      "mount_file_id": "1VeEWlp0sw8Yhg9gU-vL1CGZJRZmKC3r3",
      "authorship_tag": "ABX9TyPdFtkIXkEILxf73HiQo2mV",
      "include_colab_link": true
    },
    "kernelspec": {
      "name": "python3",
      "display_name": "Python 3"
    },
    "language_info": {
      "name": "python"
    },
    "accelerator": "GPU",
    "gpuClass": "standard"
  },
  "cells": [
    {
      "cell_type": "markdown",
      "metadata": {
        "id": "view-in-github",
        "colab_type": "text"
      },
      "source": [
        "<a href=\"https://colab.research.google.com/github/anna-alt/AI-Lab/blob/main/Untitled5.ipynb\" target=\"_parent\"><img src=\"https://colab.research.google.com/assets/colab-badge.svg\" alt=\"Open In Colab\"/></a>"
      ]
    },
    {
      "cell_type": "code",
      "execution_count": 5,
      "metadata": {
        "id": "HNQjwXsFev0q"
      },
      "outputs": [],
      "source": [
        "import torch\n",
        "import torch.nn as nn\n",
        "import torch.nn.functional as F\n",
        "from torch.utils.data import DataLoader, SubsetRandomSampler, ConcatDataset\n",
        "from torchvision import datasets, transforms\n",
        "from torchvision import models\n",
        "\n",
        "import numpy as np\n",
        "import sklearn\n",
        "\n"
      ]
    },
    {
      "cell_type": "code",
      "source": [
        "if torch.cuda.is_available():\n",
        "    device = torch.device('cuda')\n",
        "else:\n",
        "    device = torch.device('cpu')\n",
        "\n",
        "device"
      ],
      "metadata": {
        "colab": {
          "base_uri": "https://localhost:8080/"
        },
        "id": "7RL-3nOXgBiT",
        "outputId": "2ff5bcc4-f460-42cb-e336-7b8f18ae47b2"
      },
      "execution_count": 6,
      "outputs": [
        {
          "output_type": "execute_result",
          "data": {
            "text/plain": [
              "device(type='cuda')"
            ]
          },
          "metadata": {},
          "execution_count": 6
        }
      ]
    },
    {
      "cell_type": "code",
      "source": [
        "trainset_size = 1000\n",
        "val_size = 100\n",
        "num_epochs = 10\n",
        "image_size = (224,224)\n"
      ],
      "metadata": {
        "id": "6LzXm9mDgp4B"
      },
      "execution_count": 29,
      "outputs": []
    },
    {
      "cell_type": "code",
      "source": [
        "from google.colab import drive\n",
        "drive.mount('/content/drive')"
      ],
      "metadata": {
        "colab": {
          "base_uri": "https://localhost:8080/"
        },
        "id": "3iFl3W0riYVK",
        "outputId": "ed7fc6a3-23fc-4fba-8bca-9662057fc525"
      },
      "execution_count": 1,
      "outputs": [
        {
          "output_type": "stream",
          "name": "stdout",
          "text": [
            "Drive already mounted at /content/drive; to attempt to forcibly remount, call drive.mount(\"/content/drive\", force_remount=True).\n"
          ]
        }
      ]
    },
    {
      "cell_type": "code",
      "source": [
        "# Define a transform to normalize the data\n",
        "transform = transforms.Compose([transforms.ToTensor(),\n",
        "                              transforms.Resize(image_size),\n",
        "                              \n",
        "                              ])\n",
        "# Download and load the training data\n",
        "trainset = datasets.SUN397('/content/drive/MyDrive/Data', download= False, transform=transform)\n",
        "splittrain = torch.utils.data.random_split(trainset, [trainset_size, len(trainset) - trainset_size])[0]\n",
        "train_loader = DataLoader(splittrain, batch_size=64, shuffle=True)\n",
        "\n",
        "validationset = datasets.SUN397(\"/content/drive/MyDrive/Data\", download=False, transform=transform)\n",
        "splitvalidation = torch.utils.data.random_split(validationset, [val_size, len(trainset) - val_size])[0]\n",
        "val_loader = DataLoader(splitvalidation, batch_size=64, shuffle=True)\n",
        "\n"
      ],
      "metadata": {
        "id": "Y8A6H-QXgPB1"
      },
      "execution_count": 36,
      "outputs": []
    },
    {
      "cell_type": "code",
      "source": [
        "\n",
        "for image, label in val_loader:\n",
        "  print(image)\n",
        "  print(label)\n",
        "  break"
      ],
      "metadata": {
        "id": "9Nl3k0FUhYnF"
      },
      "execution_count": null,
      "outputs": []
    },
    {
      "cell_type": "code",
      "source": [
        "model = models.resnet50(weights = \"DEFAULT\")\n"
      ],
      "metadata": {
        "id": "asB6MX1-h3nA"
      },
      "execution_count": 37,
      "outputs": []
    },
    {
      "cell_type": "code",
      "source": [
        "optimizer = torch.optim.Adam(model.parameters(), lr=0.01)\n",
        "criterion = nn.CrossEntropyLoss()\n",
        "print(model)"
      ],
      "metadata": {
        "id": "DJNgvZZ8jEMp"
      },
      "execution_count": null,
      "outputs": []
    },
    {
      "cell_type": "code",
      "source": [
        "def train(epoch, log_interval=3):\n",
        "    # Set model to training mode\n",
        "    model.train()\n",
        "    \n",
        "    # Loop over each batch from the training set\n",
        "    for batch_idx, (data, target) in enumerate(train_loader):\n",
        "        # Copy data to GPU if needed\n",
        "\n",
        "\n",
        "        # Zero gradient buffers\n",
        "        optimizer.zero_grad() \n",
        "        \n",
        "        # Pass data through the network\n",
        "        output = model(data)\n",
        "\n",
        "        # Calculate loss\n",
        "        loss = criterion(output, target)\n",
        "\n",
        "        # Backpropagate\n",
        "        loss.backward()\n",
        "        \n",
        "        # Update weights\n",
        "        optimizer.step()\n",
        "        \n",
        "        if batch_idx % log_interval == 0:\n",
        "            print('Train Epoch: {} [{}/{} ({:.0f}%)]\\tLoss: {:.6f}'.format(\n",
        "                epoch, batch_idx * len(data), len(train_loader.dataset),\n",
        "                100. * batch_idx / len(train_loader), loss.data.item()))"
      ],
      "metadata": {
        "id": "wtEkhWCgjpdk"
      },
      "execution_count": 39,
      "outputs": []
    },
    {
      "cell_type": "code",
      "source": [
        "\n",
        "def validate(loss_vector, accuracy_vector):\n",
        "    model.eval()\n",
        "    val_loss, correct = 0, 0\n",
        "    for data, target in val_loader:\n",
        "\n",
        "        output = model(data)\n",
        "        val_loss += criterion(output, target).data.item()\n",
        "        pred = output.data.max(1)[1] # get the index of the max log-probability\n",
        "        correct += pred.eq(target.data).cpu().sum()\n",
        "\n",
        "    val_loss /= len(val_loader)\n",
        "    loss_vector.append(val_loss)\n",
        "\n",
        "    accuracy = 100. * correct.to(torch.float32) / len(val_loader.dataset)\n",
        "    accuracy_vector.append(accuracy)\n",
        "\n",
        "    \n",
        "    print('\\nValidation set: Average loss: {:.4f}, Accuracy: {}/{} ({:.0f}%)\\n'.format(\n",
        "        val_loss, correct, len(val_loader.dataset), accuracy))"
      ],
      "metadata": {
        "id": "x2ZG8LeZkE7l"
      },
      "execution_count": 40,
      "outputs": []
    },
    {
      "cell_type": "code",
      "source": [
        "lossv, accv = [], []\n",
        "for epoch in range(1, num_epochs + 1):\n",
        "    train(epoch)\n",
        "    validate(lossv, accv)"
      ],
      "metadata": {
        "colab": {
          "base_uri": "https://localhost:8080/"
        },
        "id": "QM4rL51ekBW5",
        "outputId": "02224ac9-3565-419f-fb4d-9dca8c788e4d"
      },
      "execution_count": null,
      "outputs": [
        {
          "output_type": "stream",
          "name": "stdout",
          "text": [
            "Train Epoch: 1 [0/1000 (0%)]\tLoss: 7.772008\n",
            "Train Epoch: 1 [192/1000 (19%)]\tLoss: 6.728742\n",
            "Train Epoch: 1 [384/1000 (38%)]\tLoss: 6.488138\n",
            "Train Epoch: 1 [576/1000 (56%)]\tLoss: 6.173882\n",
            "Train Epoch: 1 [768/1000 (75%)]\tLoss: 6.169760\n",
            "Train Epoch: 1 [600/1000 (94%)]\tLoss: 6.053406\n",
            "Predicted:  t e n s o r ( [   4 8 ,   2 1 3 ,   1 3 3 ,   1 3 3 ,     4 8 ,     4 8 ,     4 8 ,     4 8 ,     4 8 ,     4 8 ,     4 8 ,     4 8 ,     4 8 ,     4 8 , \n",
            "                 1 3 3 ,   2 1 3 ,   2 1 3 ,     4 8 ,     4 8 ,   1 3 3 ,     4 8 ,   2 7 9 ,     4 8 ,     4 8 ,     4 8 ,   2 1 3 ,     4 8 ,   2 1 3 , \n",
            "                   4 8 ,     4 8 ,     4 8 ,     4 8 ,     4 8 ,     4 8 ,     4 8 ,   1 3 3 ] )\n",
            "\n",
            "Validation set: Average loss: 141.5030, Accuracy: 1/100 (1%)\n",
            "\n",
            "Train Epoch: 2 [0/1000 (0%)]\tLoss: 5.820150\n",
            "Train Epoch: 2 [192/1000 (19%)]\tLoss: 5.370020\n",
            "Train Epoch: 2 [384/1000 (38%)]\tLoss: 5.692343\n",
            "Train Epoch: 2 [576/1000 (56%)]\tLoss: 5.674874\n",
            "Train Epoch: 2 [768/1000 (75%)]\tLoss: 5.691000\n",
            "Train Epoch: 2 [600/1000 (94%)]\tLoss: 5.996400\n",
            "Predicted:  t e n s o r ( [   6 3 ,     6 3 ,     6 3 ,   2 2 7 ,     6 3 ,     6 3 ,   1 3 3 ,     6 3 ,     6 3 ,     6 3 ,     6 3 ,     6 3 ,     6 3 ,     6 3 , \n",
            "                   6 3 ,     6 3 ,     6 3 ,     6 3 ,     6 3 ,     6 3 ,     6 3 ,     6 3 ,     6 3 ,     6 3 ,     6 3 ,     6 3 ,     6 3 ,     6 3 , \n",
            "                   6 3 ,     6 3 ,     6 3 ,     6 3 ,     6 3 ,     6 3 ,     6 3 ,     6 3 ] )\n",
            "\n",
            "Validation set: Average loss: 6.4927, Accuracy: 1/100 (1%)\n",
            "\n",
            "Train Epoch: 3 [0/1000 (0%)]\tLoss: 5.457528\n",
            "Train Epoch: 3 [192/1000 (19%)]\tLoss: 5.485005\n",
            "Train Epoch: 3 [384/1000 (38%)]\tLoss: 5.434424\n",
            "Train Epoch: 3 [576/1000 (56%)]\tLoss: 5.413671\n",
            "Train Epoch: 3 [768/1000 (75%)]\tLoss: 5.372514\n",
            "Train Epoch: 3 [600/1000 (94%)]\tLoss: 5.710015\n",
            "Predicted:  t e n s o r ( [   6 3 ,   1 3 3 ,     6 3 ,     6 3 ,     6 3 ,     6 3 ,     6 3 ,   1 3 3 ,   1 3 3 ,     6 3 ,   1 3 3 ,   1 3 3 ,   2 3 4 ,     6 3 , \n",
            "                   6 3 ,   1 3 3 ,   2 3 4 ,     6 3 ,   1 3 3 ,   1 3 3 ,   2 3 4 ,     6 3 ,   1 3 3 ,   1 3 3 ,   2 3 4 ,   1 3 3 ,   1 3 3 ,     6 3 , \n",
            "                 1 3 3 ,     6 3 ,   1 3 3 ,   2 3 4 ,   1 3 3 ,     6 3 ,   1 3 3 ,   1 3 3 ] )\n",
            "\n",
            "Validation set: Average loss: 10.3190, Accuracy: 0/100 (0%)\n",
            "\n",
            "Train Epoch: 4 [0/1000 (0%)]\tLoss: 5.264183\n",
            "Train Epoch: 4 [192/1000 (19%)]\tLoss: 5.489412\n",
            "Train Epoch: 4 [384/1000 (38%)]\tLoss: 5.140043\n",
            "Train Epoch: 4 [576/1000 (56%)]\tLoss: 5.312007\n",
            "Train Epoch: 4 [768/1000 (75%)]\tLoss: 5.346254\n",
            "Train Epoch: 4 [600/1000 (94%)]\tLoss: 5.268884\n",
            "Predicted:  t e n s o r ( [ 2 5 6 ,   2 5 6 ,   2 5 6 ,     4 8 ,       4 ,     4 8 ,   2 5 6 ,     4 8 ,   2 5 6 ,     4 8 ,       4 ,     4 8 ,     4 8 ,     4 8 , \n",
            "                 2 5 6 ,   2 5 6 ,   2 3 4 ,   2 5 6 ,   2 3 4 ,       4 ,     4 8 ,     4 8 ,   2 5 6 ,       4 ,       4 ,   2 2 7 ,     4 8 ,   2 5 6 , \n",
            "                 2 5 6 ,   2 5 6 ,   2 5 6 ,     4 8 ,   2 5 6 ,     4 8 ,       4 ,       4 ] )\n",
            "\n",
            "Validation set: Average loss: 6.4033, Accuracy: 1/100 (1%)\n",
            "\n",
            "Train Epoch: 5 [0/1000 (0%)]\tLoss: 4.940625\n",
            "Train Epoch: 5 [192/1000 (19%)]\tLoss: 5.181700\n",
            "Train Epoch: 5 [384/1000 (38%)]\tLoss: 5.392899\n",
            "Train Epoch: 5 [576/1000 (56%)]\tLoss: 5.433726\n",
            "Train Epoch: 5 [768/1000 (75%)]\tLoss: 5.178509\n",
            "Train Epoch: 5 [600/1000 (94%)]\tLoss: 5.446985\n",
            "Predicted:  t e n s o r ( [ 2 3 4 ,   2 3 4 ,       4 ,   2 3 4 ,   2 3 4 ,   2 3 4 ,   2 3 4 ,       4 ,       4 ,   2 3 4 ,   2 3 4 ,       4 ,   2 3 4 ,       4 , \n",
            "                   4 6 ,   2 3 4 ,   2 3 4 ,     4 6 ,   2 3 4 ,       4 ,   2 3 4 ,       4 ,       4 ,   2 3 4 ,   2 3 4 ,   2 3 4 ,   2 3 4 ,   2 3 4 , \n",
            "                 2 3 4 ,   2 3 4 ,   2 3 4 ,   2 3 4 ,   2 3 4 ,   2 3 4 ,   2 3 4 ,       4 ] )\n",
            "\n",
            "Validation set: Average loss: 6.5240, Accuracy: 0/100 (0%)\n",
            "\n",
            "Train Epoch: 6 [0/1000 (0%)]\tLoss: 5.099558\n",
            "Train Epoch: 6 [192/1000 (19%)]\tLoss: 4.799568\n",
            "Train Epoch: 6 [384/1000 (38%)]\tLoss: 4.866218\n",
            "Train Epoch: 6 [576/1000 (56%)]\tLoss: 5.249211\n",
            "Train Epoch: 6 [768/1000 (75%)]\tLoss: 5.301586\n",
            "Train Epoch: 6 [600/1000 (94%)]\tLoss: 5.412351\n",
            "Predicted:  t e n s o r ( [   4 6 ,   2 3 4 ,     4 6 ,     4 6 ,     4 6 ,     4 6 ,   3 5 8 ,     4 6 ,     4 6 ,     4 6 ,     4 6 ,   2 3 4 ,     4 6 ,   3 5 8 , \n",
            "                 2 3 4 ,     4 6 ,     4 6 ,     4 6 ,   2 3 4 ,     4 6 ,   2 3 4 ,     4 6 ,     4 6 ,     4 6 ,     4 6 ,     4 6 ,     4 6 ,     4 6 , \n",
            "                   4 6 ,     4 6 ,     4 6 ,     4 6 ,   2 3 4 ,   2 3 4 ,     4 6 ,   2 3 4 ] )\n",
            "\n",
            "Validation set: Average loss: 8.6621, Accuracy: 2/100 (2%)\n",
            "\n",
            "Train Epoch: 7 [0/1000 (0%)]\tLoss: 5.021141\n",
            "Train Epoch: 7 [192/1000 (19%)]\tLoss: 5.164790\n",
            "Train Epoch: 7 [384/1000 (38%)]\tLoss: 5.006195\n",
            "Train Epoch: 7 [576/1000 (56%)]\tLoss: 5.020244\n",
            "Train Epoch: 7 [768/1000 (75%)]\tLoss: 4.892563\n"
          ]
        }
      ]
    },
    {
      "cell_type": "code",
      "source": [
        "_, predicted = torch.max(outputs, 1)\n",
        "\n",
        "print('Predicted: ', ' '.join('%5s' % classes[predicted[j]]\n",
        "                              for j in range(4)))"
      ],
      "metadata": {
        "id": "QrXaIvelqQ7j"
      },
      "execution_count": null,
      "outputs": []
    }
  ]
}